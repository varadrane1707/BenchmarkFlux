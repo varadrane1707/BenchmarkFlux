{
 "cells": [
  {
   "cell_type": "code",
   "execution_count": 1,
   "metadata": {},
   "outputs": [
    {
     "name": "stderr",
     "output_type": "stream",
     "text": [
      "/Users/varadrane/Desktop/Simplismart/simplivenv/lib/python3.9/site-packages/urllib3/__init__.py:35: NotOpenSSLWarning: urllib3 v2 only supports OpenSSL 1.1.1+, currently the 'ssl' module is compiled with 'LibreSSL 2.8.3'. See: https://github.com/urllib3/urllib3/issues/3020\n",
      "  warnings.warn(\n",
      "/Users/varadrane/Desktop/Simplismart/simplivenv/lib/python3.9/site-packages/tqdm/auto.py:21: TqdmWarning: IProgress not found. Please update jupyter and ipywidgets. See https://ipywidgets.readthedocs.io/en/stable/user_install.html\n",
      "  from .autonotebook import tqdm as notebook_tqdm\n"
     ]
    },
    {
     "data": {
      "text/plain": [
       "FluxOptimisationConfig(model_id='flux-1-dev', device='cuda', is_controlnet=False, controlnet_model_id=None, quantize=True, dtype='FP16', quantize_dtype='INT8', quantize_backend='BitsAndBytes', attention_mechanism='SageAttention2', attention_caching='TeaCache', vae_optimizations='TiledVAE', parallel_gpu_setup=False, parallel_gpu_optimizations=None, compilations=None)"
      ]
     },
     "execution_count": 1,
     "metadata": {},
     "output_type": "execute_result"
    }
   ],
   "source": [
    "from compiledflux import FluxOptimisationConfig\n",
    "\n",
    "flux_config = FluxOptimisationConfig(\n",
    "    model_id=\"flux-1-dev\",\n",
    "    device=\"cuda\",\n",
    "    is_controlnet=False,\n",
    "    controlnet_model_id=None,\n",
    "    quantize=True,\n",
    "    dtype=\"FP16\",\n",
    "    quantize_dtype=\"INT8\",\n",
    "    quantize_backend=\"BitsAndBytes\",\n",
    "    attention_mechanism=\"SageAttention2\",\n",
    "    attention_caching=\"TeaCache\",\n",
    "    vae_optimizations=\"TiledVAE\",\n",
    "    parallel_gpu_setup=False,\n",
    "    parallel_gpu_optimizations=None,\n",
    "    compilations=None\n",
    ")\n",
    "\n",
    "flux_config\n"
   ]
  },
  {
   "cell_type": "code",
   "execution_count": null,
   "metadata": {},
   "outputs": [],
   "source": [
    "from compiledflux import FluxT2I\n",
    "\n",
    "flux_t2i = FluxT2I(flux_config)\n",
    "flux_t2i.compile_pipeline()\n",
    "flux_t2i.inference(\n",
    "    prompt=\"A beautiful landscape with a river and mountains\",\n",
    ")"
   ]
  }
 ],
 "metadata": {
  "kernelspec": {
   "display_name": "simplivenv",
   "language": "python",
   "name": "python3"
  },
  "language_info": {
   "codemirror_mode": {
    "name": "ipython",
    "version": 3
   },
   "file_extension": ".py",
   "mimetype": "text/x-python",
   "name": "python",
   "nbconvert_exporter": "python",
   "pygments_lexer": "ipython3",
   "version": "3.9.6"
  }
 },
 "nbformat": 4,
 "nbformat_minor": 2
}
