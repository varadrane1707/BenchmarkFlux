{
 "cells": [
  {
   "cell_type": "markdown",
   "metadata": {},
   "source": [
    "# TO DO \n",
    "\n",
    "Quantization configs\n",
    "torch.compilations\n",
    "Best Optimization"
   ]
  },
  {
   "cell_type": "code",
   "execution_count": 2,
   "metadata": {},
   "outputs": [
    {
     "data": {
      "text/plain": [
       "FluxOptimisationConfig(model_id='flux-1-dev', device='cuda', is_controlnet=False, controlnet_model_id=None, quantize=True, dtype='FP16', quantize_dtype='INT8', quantize_backend='BitsAndBytes', attention_mechanism='SageAttention2', attention_caching='TeaCache', vae_optimizations='None', parallel_gpu_setup=False, parallel_gpu_optimizations=None, compilations=None)"
      ]
     },
     "execution_count": 2,
     "metadata": {},
     "output_type": "execute_result"
    }
   ],
   "source": [
    "from compiledflux import FluxOptimisationConfig\n",
    "\n",
    "flux_config = FluxOptimisationConfig(\n",
    "    model_id=\"flux-1-dev\",\n",
    "    device=\"cuda\",\n",
    "    is_controlnet=False,\n",
    "    controlnet_model_id=None,\n",
    "    quantize=False,\n",
    "    dtype=\"BF16\",\n",
    "    quantize_dtype=\"None\",\n",
    "    quantize_backend=\"None\",\n",
    "    attention_mechanism=\"FlashAttention2\",\n",
    "    attention_caching=\"TeaCache\",\n",
    "    vae_optimizations=\"None\",\n",
    "    parallel_gpu_setup=False,\n",
    "    parallel_gpu_optimizations=None,\n",
    "    compilations=None,\n",
    "    caching_threshold=0.35\n",
    ")\n",
    "\n",
    "flux_config\n"
   ]
  },
  {
   "cell_type": "code",
   "execution_count": 5,
   "metadata": {},
   "outputs": [
    {
     "ename": "ValueError",
     "evalue": "parallel_gpu_optimizations must be ContextParallelismPipeline or FSDP-XDiT",
     "output_type": "error",
     "traceback": [
      "\u001b[0;31m---------------------------------------------------------------------------\u001b[0m",
      "\u001b[0;31mValueError\u001b[0m                                Traceback (most recent call last)",
      "Cell \u001b[0;32mIn[5], line 4\u001b[0m\n\u001b[1;32m      1\u001b[0m \u001b[38;5;28;01mfrom\u001b[39;00m \u001b[38;5;21;01mcompiledflux\u001b[39;00m \u001b[38;5;28;01mimport\u001b[39;00m FluxT2I\n\u001b[1;32m      3\u001b[0m flux_t2i \u001b[38;5;241m=\u001b[39m FluxT2I(flux_config)\n\u001b[0;32m----> 4\u001b[0m \u001b[43mflux_t2i\u001b[49m\u001b[38;5;241;43m.\u001b[39;49m\u001b[43mcompile_pipeline\u001b[49m\u001b[43m(\u001b[49m\u001b[43m)\u001b[49m\n",
      "File \u001b[0;32m~/BenchmarkFlux/compiledflux.py:187\u001b[0m, in \u001b[0;36mFluxT2I.compile_pipeline\u001b[0;34m(self)\u001b[0m\n\u001b[1;32m    186\u001b[0m \u001b[38;5;28;01mdef\u001b[39;00m \u001b[38;5;21mcompile_pipeline\u001b[39m(\u001b[38;5;28mself\u001b[39m):\n\u001b[0;32m--> 187\u001b[0m     \u001b[38;5;28;43mself\u001b[39;49m\u001b[38;5;241;43m.\u001b[39;49m\u001b[43msoft_validations\u001b[49m\u001b[43m(\u001b[49m\u001b[43m)\u001b[49m\n\u001b[1;32m    188\u001b[0m     \u001b[38;5;28;01mif\u001b[39;00m \u001b[38;5;28mself\u001b[39m\u001b[38;5;241m.\u001b[39mis_quantize:\n\u001b[1;32m    189\u001b[0m         \u001b[38;5;28mself\u001b[39m\u001b[38;5;241m.\u001b[39mgenerate_quantization_config()\n",
      "File \u001b[0;32m~/BenchmarkFlux/compiledflux.py:107\u001b[0m, in \u001b[0;36mFluxT2I.soft_validations\u001b[0;34m(self)\u001b[0m\n\u001b[1;32m    104\u001b[0m     \u001b[38;5;28;01mraise\u001b[39;00m \u001b[38;5;167;01mValueError\u001b[39;00m(\u001b[38;5;124m\"\u001b[39m\u001b[38;5;124mvae_optimizations must be SlicedVAE or TiledVAE or ParallelVAE\u001b[39m\u001b[38;5;124m\"\u001b[39m)\n\u001b[1;32m    106\u001b[0m \u001b[38;5;28;01mif\u001b[39;00m \u001b[38;5;28mself\u001b[39m\u001b[38;5;241m.\u001b[39mparallel_gpu_optimizations \u001b[38;5;129;01mnot\u001b[39;00m \u001b[38;5;129;01min\u001b[39;00m ALLOWED_PARALLEL_GPU_OPTIMIZATIONS:\n\u001b[0;32m--> 107\u001b[0m     \u001b[38;5;28;01mraise\u001b[39;00m \u001b[38;5;167;01mValueError\u001b[39;00m(\u001b[38;5;124m\"\u001b[39m\u001b[38;5;124mparallel_gpu_optimizations must be ContextParallelismPipeline or FSDP-XDiT\u001b[39m\u001b[38;5;124m\"\u001b[39m)\n\u001b[1;32m    109\u001b[0m \u001b[38;5;28;01mif\u001b[39;00m \u001b[38;5;28mself\u001b[39m\u001b[38;5;241m.\u001b[39mcompilations \u001b[38;5;129;01mnot\u001b[39;00m \u001b[38;5;129;01min\u001b[39;00m ALLOWED_COMPILATIONS:\n\u001b[1;32m    110\u001b[0m     \u001b[38;5;28;01mraise\u001b[39;00m \u001b[38;5;167;01mValueError\u001b[39;00m(\u001b[38;5;124m\"\u001b[39m\u001b[38;5;124mcompilations must be torch.compile or tensorrt compilation\u001b[39m\u001b[38;5;124m\"\u001b[39m)\n",
      "\u001b[0;31mValueError\u001b[0m: parallel_gpu_optimizations must be ContextParallelismPipeline or FSDP-XDiT"
     ]
    }
   ],
   "source": [
    "from compiledflux import FluxT2I\n",
    "\n",
    "flux_t2i = FluxT2I(flux_config)\n",
    "flux_t2i.compile_pipeline()\n"
   ]
  }
 ],
 "metadata": {
  "kernelspec": {
   "display_name": "simplivenv",
   "language": "python",
   "name": "python3"
  },
  "language_info": {
   "codemirror_mode": {
    "name": "ipython",
    "version": 3
   },
   "file_extension": ".py",
   "mimetype": "text/x-python",
   "name": "python",
   "nbconvert_exporter": "python",
   "pygments_lexer": "ipython3",
   "version": "3.9.6"
  }
 },
 "nbformat": 4,
 "nbformat_minor": 2
}
